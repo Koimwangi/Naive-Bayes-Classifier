{
 "cells": [
  {
   "cell_type": "code",
   "execution_count": 1,
   "id": "7a163b85",
   "metadata": {},
   "outputs": [],
   "source": [
    "# importing the libraries\n",
    "import numpy as np\n",
    "import matplotlib.pyplot as plt\n",
    "import pandas as pd\n",
    "import seaborn as sns\n",
    "from numpy import asarray\n",
    "from sklearn.preprocessing import RobustScaler\n",
    "from sklearn.preprocessing import StandardScaler\n",
    "from sklearn.model_selection import cross_val_score\n",
    "from sklearn.model_selection import RepeatedStratifiedKFold\n",
    "from sklearn.neighbors import KNeighborsClassifier\n",
    "from sklearn.preprocessing import LabelEncoder\n",
    "from numpy import asarray\n",
    "%matplotlib inline"
   ]
  },
  {
   "cell_type": "code",
   "execution_count": 2,
   "id": "5deab26a",
   "metadata": {},
   "outputs": [],
   "source": [
    "import warnings\n",
    "\n",
    "warnings.filterwarnings('ignore')"
   ]
  },
  {
   "cell_type": "code",
   "execution_count": 3,
   "id": "b778caac",
   "metadata": {},
   "outputs": [],
   "source": [
    "# importing the dataset\n",
    "dataset = pd.read_csv('test74.csv')"
   ]
  },
  {
   "cell_type": "code",
   "execution_count": 4,
   "id": "c5cf841b",
   "metadata": {},
   "outputs": [
    {
     "data": {
      "text/plain": [
       "pandas.core.frame.DataFrame"
      ]
     },
     "execution_count": 4,
     "metadata": {},
     "output_type": "execute_result"
    }
   ],
   "source": [
    "type(dataset)"
   ]
  },
  {
   "cell_type": "code",
   "execution_count": 5,
   "id": "c48fa911",
   "metadata": {},
   "outputs": [
    {
     "data": {
      "text/plain": [
       "(8792, 14)"
      ]
     },
     "execution_count": 5,
     "metadata": {},
     "output_type": "execute_result"
    }
   ],
   "source": [
    "dataset.shape"
   ]
  },
  {
   "cell_type": "code",
   "execution_count": 6,
   "id": "bfb610ad",
   "metadata": {},
   "outputs": [
    {
     "name": "stdout",
     "output_type": "stream",
     "text": [
      "<class 'pandas.core.frame.DataFrame'>\n",
      "RangeIndex: 8792 entries, 0 to 8791\n",
      "Data columns (total 14 columns):\n",
      " #   Column             Non-Null Count  Dtype \n",
      "---  ------             --------------  ----- \n",
      " 0   MSSubClass         8792 non-null   object\n",
      " 1   DemandFoc          8792 non-null   int64 \n",
      " 2   StockOut           8792 non-null   object\n",
      " 3   Local              8792 non-null   object\n",
      " 4   TechSavvy          8792 non-null   object\n",
      " 5   EquipBreak         8792 non-null   object\n",
      " 6   Week               8792 non-null   object\n",
      " 7   SuppplyConstraint  8792 non-null   object\n",
      " 8   Warehouse          8784 non-null   object\n",
      " 9   Product            8792 non-null   object\n",
      " 10  MOQ                8792 non-null   object\n",
      " 11  Orders             8792 non-null   int64 \n",
      " 12  ProdPlan           8792 non-null   int64 \n",
      " 13  SaleType           8788 non-null   object\n",
      "dtypes: int64(3), object(11)\n",
      "memory usage: 961.8+ KB\n"
     ]
    }
   ],
   "source": [
    "dataset.info()"
   ]
  },
  {
   "cell_type": "code",
   "execution_count": 7,
   "id": "dffcc8a7-1585-472b-9dbd-09d2feca8914",
   "metadata": {},
   "outputs": [],
   "source": [
    "dataset.replace([np.inf, -np.inf], np.nan, inplace=True)"
   ]
  },
  {
   "cell_type": "code",
   "execution_count": 8,
   "id": "4b29ba9b-b2f4-4a53-bd61-3727aac3a2a6",
   "metadata": {},
   "outputs": [],
   "source": [
    "dataset.fillna(999, inplace=True)"
   ]
  },
  {
   "cell_type": "code",
   "execution_count": 9,
   "id": "5a2b3b05",
   "metadata": {},
   "outputs": [
    {
     "data": {
      "text/html": [
       "<div>\n",
       "<style scoped>\n",
       "    .dataframe tbody tr th:only-of-type {\n",
       "        vertical-align: middle;\n",
       "    }\n",
       "\n",
       "    .dataframe tbody tr th {\n",
       "        vertical-align: top;\n",
       "    }\n",
       "\n",
       "    .dataframe thead th {\n",
       "        text-align: right;\n",
       "    }\n",
       "</style>\n",
       "<table border=\"1\" class=\"dataframe\">\n",
       "  <thead>\n",
       "    <tr style=\"text-align: right;\">\n",
       "      <th></th>\n",
       "      <th>MSSubClass</th>\n",
       "      <th>DemandFoc</th>\n",
       "      <th>StockOut</th>\n",
       "      <th>Local</th>\n",
       "      <th>TechSavvy</th>\n",
       "      <th>EquipBreak</th>\n",
       "      <th>Week</th>\n",
       "      <th>SuppplyConstraint</th>\n",
       "      <th>Warehouse</th>\n",
       "      <th>Product</th>\n",
       "      <th>MOQ</th>\n",
       "      <th>Orders</th>\n",
       "      <th>ProdPlan</th>\n",
       "      <th>SaleType</th>\n",
       "    </tr>\n",
       "  </thead>\n",
       "  <tbody>\n",
       "    <tr>\n",
       "      <th>0</th>\n",
       "      <td>20C</td>\n",
       "      <td>10525</td>\n",
       "      <td>Yes</td>\n",
       "      <td>Yes</td>\n",
       "      <td>A</td>\n",
       "      <td>No</td>\n",
       "      <td>One</td>\n",
       "      <td>No</td>\n",
       "      <td>MSN</td>\n",
       "      <td>RL</td>\n",
       "      <td>No</td>\n",
       "      <td>3</td>\n",
       "      <td>345</td>\n",
       "      <td>Credit</td>\n",
       "    </tr>\n",
       "    <tr>\n",
       "      <th>1</th>\n",
       "      <td>20C</td>\n",
       "      <td>12976</td>\n",
       "      <td>No</td>\n",
       "      <td>Yes</td>\n",
       "      <td>A</td>\n",
       "      <td>No</td>\n",
       "      <td>Two</td>\n",
       "      <td>No</td>\n",
       "      <td>BSN</td>\n",
       "      <td>RL</td>\n",
       "      <td>No</td>\n",
       "      <td>15</td>\n",
       "      <td>132</td>\n",
       "      <td>Credit</td>\n",
       "    </tr>\n",
       "    <tr>\n",
       "      <th>2</th>\n",
       "      <td>60C</td>\n",
       "      <td>19100</td>\n",
       "      <td>Yes</td>\n",
       "      <td>No</td>\n",
       "      <td>B</td>\n",
       "      <td>No</td>\n",
       "      <td>One</td>\n",
       "      <td>No</td>\n",
       "      <td>MSN</td>\n",
       "      <td>RHL</td>\n",
       "      <td>Yes</td>\n",
       "      <td>13</td>\n",
       "      <td>687</td>\n",
       "      <td>Credit</td>\n",
       "    </tr>\n",
       "    <tr>\n",
       "      <th>3</th>\n",
       "      <td>60C</td>\n",
       "      <td>6660</td>\n",
       "      <td>No</td>\n",
       "      <td>No</td>\n",
       "      <td>B</td>\n",
       "      <td>No</td>\n",
       "      <td>Two</td>\n",
       "      <td>No</td>\n",
       "      <td>MSN</td>\n",
       "      <td>RHL</td>\n",
       "      <td>No</td>\n",
       "      <td>1</td>\n",
       "      <td>476</td>\n",
       "      <td>Credit</td>\n",
       "    </tr>\n",
       "    <tr>\n",
       "      <th>4</th>\n",
       "      <td>120C</td>\n",
       "      <td>18423</td>\n",
       "      <td>Yes</td>\n",
       "      <td>No</td>\n",
       "      <td>B</td>\n",
       "      <td>Yes</td>\n",
       "      <td>Three</td>\n",
       "      <td>No</td>\n",
       "      <td>IA</td>\n",
       "      <td>RHL</td>\n",
       "      <td>No</td>\n",
       "      <td>15</td>\n",
       "      <td>858</td>\n",
       "      <td>Credit</td>\n",
       "    </tr>\n",
       "  </tbody>\n",
       "</table>\n",
       "</div>"
      ],
      "text/plain": [
       "  MSSubClass  DemandFoc StockOut Local TechSavvy EquipBreak   Week  \\\n",
       "0        20C      10525      Yes   Yes         A         No    One   \n",
       "1        20C      12976       No   Yes         A         No    Two   \n",
       "2        60C      19100      Yes    No         B         No    One   \n",
       "3        60C       6660       No    No         B         No    Two   \n",
       "4       120C      18423      Yes    No         B        Yes  Three   \n",
       "\n",
       "  SuppplyConstraint Warehouse Product  MOQ  Orders  ProdPlan SaleType  \n",
       "0                No       MSN      RL   No       3       345   Credit  \n",
       "1                No       BSN      RL   No      15       132   Credit  \n",
       "2                No       MSN     RHL  Yes      13       687   Credit  \n",
       "3                No       MSN     RHL   No       1       476   Credit  \n",
       "4                No        IA     RHL   No      15       858   Credit  "
      ]
     },
     "execution_count": 9,
     "metadata": {},
     "output_type": "execute_result"
    }
   ],
   "source": [
    "dataset.head()"
   ]
  },
  {
   "cell_type": "code",
   "execution_count": 10,
   "id": "715e8750-2390-4843-b0d6-8dff6ed45103",
   "metadata": {},
   "outputs": [
    {
     "name": "stdout",
     "output_type": "stream",
     "text": [
      "There are 11 categorical variables\n",
      "\n",
      "The categorical variables are :\n",
      "\n",
      " ['MSSubClass', 'StockOut', 'Local', 'TechSavvy', 'EquipBreak', 'Week', 'SuppplyConstraint', 'Warehouse', 'Product', 'MOQ', 'SaleType']\n"
     ]
    }
   ],
   "source": [
    "# find categorical variables\n",
    "\n",
    "categorical = [var for var in dataset.columns if dataset[var].dtype=='O']\n",
    "\n",
    "print('There are {} categorical variables\\n'.format(len(categorical)))\n",
    "\n",
    "print('The categorical variables are :\\n\\n', categorical)"
   ]
  },
  {
   "cell_type": "code",
   "execution_count": 11,
   "id": "6d8e8256-1b13-4aff-8692-427c99c7190c",
   "metadata": {
    "scrolled": true
   },
   "outputs": [
    {
     "data": {
      "text/html": [
       "<div>\n",
       "<style scoped>\n",
       "    .dataframe tbody tr th:only-of-type {\n",
       "        vertical-align: middle;\n",
       "    }\n",
       "\n",
       "    .dataframe tbody tr th {\n",
       "        vertical-align: top;\n",
       "    }\n",
       "\n",
       "    .dataframe thead th {\n",
       "        text-align: right;\n",
       "    }\n",
       "</style>\n",
       "<table border=\"1\" class=\"dataframe\">\n",
       "  <thead>\n",
       "    <tr style=\"text-align: right;\">\n",
       "      <th></th>\n",
       "      <th>MSSubClass</th>\n",
       "      <th>StockOut</th>\n",
       "      <th>Local</th>\n",
       "      <th>TechSavvy</th>\n",
       "      <th>EquipBreak</th>\n",
       "      <th>Week</th>\n",
       "      <th>SuppplyConstraint</th>\n",
       "      <th>Warehouse</th>\n",
       "      <th>Product</th>\n",
       "      <th>MOQ</th>\n",
       "      <th>SaleType</th>\n",
       "    </tr>\n",
       "  </thead>\n",
       "  <tbody>\n",
       "    <tr>\n",
       "      <th>0</th>\n",
       "      <td>20C</td>\n",
       "      <td>Yes</td>\n",
       "      <td>Yes</td>\n",
       "      <td>A</td>\n",
       "      <td>No</td>\n",
       "      <td>One</td>\n",
       "      <td>No</td>\n",
       "      <td>MSN</td>\n",
       "      <td>RL</td>\n",
       "      <td>No</td>\n",
       "      <td>Credit</td>\n",
       "    </tr>\n",
       "    <tr>\n",
       "      <th>1</th>\n",
       "      <td>20C</td>\n",
       "      <td>No</td>\n",
       "      <td>Yes</td>\n",
       "      <td>A</td>\n",
       "      <td>No</td>\n",
       "      <td>Two</td>\n",
       "      <td>No</td>\n",
       "      <td>BSN</td>\n",
       "      <td>RL</td>\n",
       "      <td>No</td>\n",
       "      <td>Credit</td>\n",
       "    </tr>\n",
       "    <tr>\n",
       "      <th>2</th>\n",
       "      <td>60C</td>\n",
       "      <td>Yes</td>\n",
       "      <td>No</td>\n",
       "      <td>B</td>\n",
       "      <td>No</td>\n",
       "      <td>One</td>\n",
       "      <td>No</td>\n",
       "      <td>MSN</td>\n",
       "      <td>RHL</td>\n",
       "      <td>Yes</td>\n",
       "      <td>Credit</td>\n",
       "    </tr>\n",
       "    <tr>\n",
       "      <th>3</th>\n",
       "      <td>60C</td>\n",
       "      <td>No</td>\n",
       "      <td>No</td>\n",
       "      <td>B</td>\n",
       "      <td>No</td>\n",
       "      <td>Two</td>\n",
       "      <td>No</td>\n",
       "      <td>MSN</td>\n",
       "      <td>RHL</td>\n",
       "      <td>No</td>\n",
       "      <td>Credit</td>\n",
       "    </tr>\n",
       "    <tr>\n",
       "      <th>4</th>\n",
       "      <td>120C</td>\n",
       "      <td>Yes</td>\n",
       "      <td>No</td>\n",
       "      <td>B</td>\n",
       "      <td>Yes</td>\n",
       "      <td>Three</td>\n",
       "      <td>No</td>\n",
       "      <td>IA</td>\n",
       "      <td>RHL</td>\n",
       "      <td>No</td>\n",
       "      <td>Credit</td>\n",
       "    </tr>\n",
       "  </tbody>\n",
       "</table>\n",
       "</div>"
      ],
      "text/plain": [
       "  MSSubClass StockOut Local TechSavvy EquipBreak   Week SuppplyConstraint  \\\n",
       "0        20C      Yes   Yes         A         No    One                No   \n",
       "1        20C       No   Yes         A         No    Two                No   \n",
       "2        60C      Yes    No         B         No    One                No   \n",
       "3        60C       No    No         B         No    Two                No   \n",
       "4       120C      Yes    No         B        Yes  Three                No   \n",
       "\n",
       "  Warehouse Product  MOQ SaleType  \n",
       "0       MSN      RL   No   Credit  \n",
       "1       BSN      RL   No   Credit  \n",
       "2       MSN     RHL  Yes   Credit  \n",
       "3       MSN     RHL   No   Credit  \n",
       "4        IA     RHL   No   Credit  "
      ]
     },
     "execution_count": 11,
     "metadata": {},
     "output_type": "execute_result"
    }
   ],
   "source": [
    "# view the categorical variables\n",
    "\n",
    "dataset[categorical].head()"
   ]
  },
  {
   "cell_type": "code",
   "execution_count": 12,
   "id": "1348fe3d",
   "metadata": {},
   "outputs": [
    {
     "data": {
      "text/html": [
       "<div>\n",
       "<style scoped>\n",
       "    .dataframe tbody tr th:only-of-type {\n",
       "        vertical-align: middle;\n",
       "    }\n",
       "\n",
       "    .dataframe tbody tr th {\n",
       "        vertical-align: top;\n",
       "    }\n",
       "\n",
       "    .dataframe thead th {\n",
       "        text-align: right;\n",
       "    }\n",
       "</style>\n",
       "<table border=\"1\" class=\"dataframe\">\n",
       "  <thead>\n",
       "    <tr style=\"text-align: right;\">\n",
       "      <th>col_0</th>\n",
       "      <th>count</th>\n",
       "    </tr>\n",
       "    <tr>\n",
       "      <th>StockOut</th>\n",
       "      <th></th>\n",
       "    </tr>\n",
       "  </thead>\n",
       "  <tbody>\n",
       "    <tr>\n",
       "      <th>No</th>\n",
       "      <td>4383</td>\n",
       "    </tr>\n",
       "    <tr>\n",
       "      <th>Yes</th>\n",
       "      <td>4409</td>\n",
       "    </tr>\n",
       "  </tbody>\n",
       "</table>\n",
       "</div>"
      ],
      "text/plain": [
       "col_0     count\n",
       "StockOut       \n",
       "No         4383\n",
       "Yes        4409"
      ]
     },
     "execution_count": 12,
     "metadata": {},
     "output_type": "execute_result"
    }
   ],
   "source": [
    "Fq=pd.crosstab(index=dataset[\"StockOut\"], columns =\"count\")\n",
    "#Fq=pd.crosstab(index=dataset[\"MSSubClass\"], columns =\"count\")\n",
    "Fq"
   ]
  },
  {
   "cell_type": "code",
   "execution_count": 13,
   "id": "d1c75e93",
   "metadata": {},
   "outputs": [
    {
     "data": {
      "text/html": [
       "<div>\n",
       "<style scoped>\n",
       "    .dataframe tbody tr th:only-of-type {\n",
       "        vertical-align: middle;\n",
       "    }\n",
       "\n",
       "    .dataframe tbody tr th {\n",
       "        vertical-align: top;\n",
       "    }\n",
       "\n",
       "    .dataframe thead th {\n",
       "        text-align: right;\n",
       "    }\n",
       "</style>\n",
       "<table border=\"1\" class=\"dataframe\">\n",
       "  <thead>\n",
       "    <tr style=\"text-align: right;\">\n",
       "      <th>col_0</th>\n",
       "      <th>count</th>\n",
       "    </tr>\n",
       "    <tr>\n",
       "      <th>MSSubClass</th>\n",
       "      <th></th>\n",
       "    </tr>\n",
       "  </thead>\n",
       "  <tbody>\n",
       "    <tr>\n",
       "      <th>120C</th>\n",
       "      <td>584</td>\n",
       "    </tr>\n",
       "    <tr>\n",
       "      <th>150C</th>\n",
       "      <td>8</td>\n",
       "    </tr>\n",
       "    <tr>\n",
       "      <th>160C</th>\n",
       "      <td>412</td>\n",
       "    </tr>\n",
       "    <tr>\n",
       "      <th>180C</th>\n",
       "      <td>44</td>\n",
       "    </tr>\n",
       "    <tr>\n",
       "      <th>190C</th>\n",
       "      <td>196</td>\n",
       "    </tr>\n",
       "    <tr>\n",
       "      <th>20C</th>\n",
       "      <td>3240</td>\n",
       "    </tr>\n",
       "    <tr>\n",
       "      <th>30C</th>\n",
       "      <td>416</td>\n",
       "    </tr>\n",
       "    <tr>\n",
       "      <th>40C</th>\n",
       "      <td>16</td>\n",
       "    </tr>\n",
       "    <tr>\n",
       "      <th>45C</th>\n",
       "      <td>30</td>\n",
       "    </tr>\n",
       "    <tr>\n",
       "      <th>50C</th>\n",
       "      <td>1306</td>\n",
       "    </tr>\n",
       "    <tr>\n",
       "      <th>60C</th>\n",
       "      <td>1648</td>\n",
       "    </tr>\n",
       "    <tr>\n",
       "      <th>75C</th>\n",
       "      <td>40</td>\n",
       "    </tr>\n",
       "    <tr>\n",
       "      <th>80C</th>\n",
       "      <td>352</td>\n",
       "    </tr>\n",
       "    <tr>\n",
       "      <th>85C</th>\n",
       "      <td>160</td>\n",
       "    </tr>\n",
       "    <tr>\n",
       "      <th>90C</th>\n",
       "      <td>340</td>\n",
       "    </tr>\n",
       "  </tbody>\n",
       "</table>\n",
       "</div>"
      ],
      "text/plain": [
       "col_0       count\n",
       "MSSubClass       \n",
       "120C          584\n",
       "150C            8\n",
       "160C          412\n",
       "180C           44\n",
       "190C          196\n",
       "20C          3240\n",
       "30C           416\n",
       "40C            16\n",
       "45C            30\n",
       "50C          1306\n",
       "60C          1648\n",
       "75C            40\n",
       "80C           352\n",
       "85C           160\n",
       "90C           340"
      ]
     },
     "execution_count": 13,
     "metadata": {},
     "output_type": "execute_result"
    }
   ],
   "source": [
    "Fq=pd.crosstab(index=dataset[\"MSSubClass\"], columns =\"count\")\n",
    "Fq"
   ]
  },
  {
   "cell_type": "code",
   "execution_count": 14,
   "id": "886faf7e",
   "metadata": {},
   "outputs": [
    {
     "data": {
      "text/html": [
       "<div>\n",
       "<style scoped>\n",
       "    .dataframe tbody tr th:only-of-type {\n",
       "        vertical-align: middle;\n",
       "    }\n",
       "\n",
       "    .dataframe tbody tr th {\n",
       "        vertical-align: top;\n",
       "    }\n",
       "\n",
       "    .dataframe thead th {\n",
       "        text-align: right;\n",
       "    }\n",
       "</style>\n",
       "<table border=\"1\" class=\"dataframe\">\n",
       "  <thead>\n",
       "    <tr style=\"text-align: right;\">\n",
       "      <th>col_0</th>\n",
       "      <th>count</th>\n",
       "    </tr>\n",
       "    <tr>\n",
       "      <th>Local</th>\n",
       "      <th></th>\n",
       "    </tr>\n",
       "  </thead>\n",
       "  <tbody>\n",
       "    <tr>\n",
       "      <th>No</th>\n",
       "      <td>4405</td>\n",
       "    </tr>\n",
       "    <tr>\n",
       "      <th>Yes</th>\n",
       "      <td>4387</td>\n",
       "    </tr>\n",
       "  </tbody>\n",
       "</table>\n",
       "</div>"
      ],
      "text/plain": [
       "col_0  count\n",
       "Local       \n",
       "No      4405\n",
       "Yes     4387"
      ]
     },
     "execution_count": 14,
     "metadata": {},
     "output_type": "execute_result"
    }
   ],
   "source": [
    "Fq=pd.crosstab(index=dataset[\"Local\"], columns =\"count\")\n",
    "Fq"
   ]
  },
  {
   "cell_type": "code",
   "execution_count": 15,
   "id": "2acc0cf8",
   "metadata": {},
   "outputs": [
    {
     "data": {
      "text/html": [
       "<div>\n",
       "<style scoped>\n",
       "    .dataframe tbody tr th:only-of-type {\n",
       "        vertical-align: middle;\n",
       "    }\n",
       "\n",
       "    .dataframe tbody tr th {\n",
       "        vertical-align: top;\n",
       "    }\n",
       "\n",
       "    .dataframe thead th {\n",
       "        text-align: right;\n",
       "    }\n",
       "</style>\n",
       "<table border=\"1\" class=\"dataframe\">\n",
       "  <thead>\n",
       "    <tr style=\"text-align: right;\">\n",
       "      <th>col_0</th>\n",
       "      <th>count</th>\n",
       "    </tr>\n",
       "    <tr>\n",
       "      <th>TechSavvy</th>\n",
       "      <th></th>\n",
       "    </tr>\n",
       "  </thead>\n",
       "  <tbody>\n",
       "    <tr>\n",
       "      <th>A</th>\n",
       "      <td>3604</td>\n",
       "    </tr>\n",
       "    <tr>\n",
       "      <th>B</th>\n",
       "      <td>4016</td>\n",
       "    </tr>\n",
       "    <tr>\n",
       "      <th>C</th>\n",
       "      <td>136</td>\n",
       "    </tr>\n",
       "    <tr>\n",
       "      <th>D</th>\n",
       "      <td>1008</td>\n",
       "    </tr>\n",
       "    <tr>\n",
       "      <th>E</th>\n",
       "      <td>28</td>\n",
       "    </tr>\n",
       "  </tbody>\n",
       "</table>\n",
       "</div>"
      ],
      "text/plain": [
       "col_0      count\n",
       "TechSavvy       \n",
       "A           3604\n",
       "B           4016\n",
       "C            136\n",
       "D           1008\n",
       "E             28"
      ]
     },
     "execution_count": 15,
     "metadata": {},
     "output_type": "execute_result"
    }
   ],
   "source": [
    "Fq=pd.crosstab(index=dataset[\"TechSavvy\"], columns =\"count\")\n",
    "Fq"
   ]
  },
  {
   "cell_type": "code",
   "execution_count": 16,
   "id": "554ab1b2",
   "metadata": {},
   "outputs": [
    {
     "data": {
      "text/html": [
       "<div>\n",
       "<style scoped>\n",
       "    .dataframe tbody tr th:only-of-type {\n",
       "        vertical-align: middle;\n",
       "    }\n",
       "\n",
       "    .dataframe tbody tr th {\n",
       "        vertical-align: top;\n",
       "    }\n",
       "\n",
       "    .dataframe thead th {\n",
       "        text-align: right;\n",
       "    }\n",
       "</style>\n",
       "<table border=\"1\" class=\"dataframe\">\n",
       "  <thead>\n",
       "    <tr style=\"text-align: right;\">\n",
       "      <th>col_0</th>\n",
       "      <th>count</th>\n",
       "    </tr>\n",
       "    <tr>\n",
       "      <th>EquipBreak</th>\n",
       "      <th></th>\n",
       "    </tr>\n",
       "  </thead>\n",
       "  <tbody>\n",
       "    <tr>\n",
       "      <th>No</th>\n",
       "      <td>4307</td>\n",
       "    </tr>\n",
       "    <tr>\n",
       "      <th>Yes</th>\n",
       "      <td>4485</td>\n",
       "    </tr>\n",
       "  </tbody>\n",
       "</table>\n",
       "</div>"
      ],
      "text/plain": [
       "col_0       count\n",
       "EquipBreak       \n",
       "No           4307\n",
       "Yes          4485"
      ]
     },
     "execution_count": 16,
     "metadata": {},
     "output_type": "execute_result"
    }
   ],
   "source": [
    "Fq=pd.crosstab(index=dataset[\"EquipBreak\"], columns =\"count\")\n",
    "Fq"
   ]
  },
  {
   "cell_type": "code",
   "execution_count": 17,
   "id": "8002e13f",
   "metadata": {},
   "outputs": [
    {
     "data": {
      "text/html": [
       "<div>\n",
       "<style scoped>\n",
       "    .dataframe tbody tr th:only-of-type {\n",
       "        vertical-align: middle;\n",
       "    }\n",
       "\n",
       "    .dataframe tbody tr th {\n",
       "        vertical-align: top;\n",
       "    }\n",
       "\n",
       "    .dataframe thead th {\n",
       "        text-align: right;\n",
       "    }\n",
       "</style>\n",
       "<table border=\"1\" class=\"dataframe\">\n",
       "  <thead>\n",
       "    <tr style=\"text-align: right;\">\n",
       "      <th>col_0</th>\n",
       "      <th>count</th>\n",
       "    </tr>\n",
       "    <tr>\n",
       "      <th>Week</th>\n",
       "      <th></th>\n",
       "    </tr>\n",
       "  </thead>\n",
       "  <tbody>\n",
       "    <tr>\n",
       "      <th>One</th>\n",
       "      <td>2556</td>\n",
       "    </tr>\n",
       "    <tr>\n",
       "      <th>Three</th>\n",
       "      <td>1576</td>\n",
       "    </tr>\n",
       "    <tr>\n",
       "      <th>Two</th>\n",
       "      <td>2312</td>\n",
       "    </tr>\n",
       "    <tr>\n",
       "      <th>four</th>\n",
       "      <td>2348</td>\n",
       "    </tr>\n",
       "  </tbody>\n",
       "</table>\n",
       "</div>"
      ],
      "text/plain": [
       "col_0  count\n",
       "Week        \n",
       "One     2556\n",
       "Three   1576\n",
       "Two     2312\n",
       "four    2348"
      ]
     },
     "execution_count": 17,
     "metadata": {},
     "output_type": "execute_result"
    }
   ],
   "source": [
    "Fq=pd.crosstab(index=dataset[\"Week\"], columns =\"count\")\n",
    "Fq"
   ]
  },
  {
   "cell_type": "code",
   "execution_count": 18,
   "id": "d2e99a64",
   "metadata": {},
   "outputs": [
    {
     "data": {
      "text/html": [
       "<div>\n",
       "<style scoped>\n",
       "    .dataframe tbody tr th:only-of-type {\n",
       "        vertical-align: middle;\n",
       "    }\n",
       "\n",
       "    .dataframe tbody tr th {\n",
       "        vertical-align: top;\n",
       "    }\n",
       "\n",
       "    .dataframe thead th {\n",
       "        text-align: right;\n",
       "    }\n",
       "</style>\n",
       "<table border=\"1\" class=\"dataframe\">\n",
       "  <thead>\n",
       "    <tr style=\"text-align: right;\">\n",
       "      <th>col_0</th>\n",
       "      <th>count</th>\n",
       "    </tr>\n",
       "    <tr>\n",
       "      <th>SuppplyConstraint</th>\n",
       "      <th></th>\n",
       "    </tr>\n",
       "  </thead>\n",
       "  <tbody>\n",
       "    <tr>\n",
       "      <th>No</th>\n",
       "      <td>4371</td>\n",
       "    </tr>\n",
       "    <tr>\n",
       "      <th>Yes</th>\n",
       "      <td>4421</td>\n",
       "    </tr>\n",
       "  </tbody>\n",
       "</table>\n",
       "</div>"
      ],
      "text/plain": [
       "col_0              count\n",
       "SuppplyConstraint       \n",
       "No                  4371\n",
       "Yes                 4421"
      ]
     },
     "execution_count": 18,
     "metadata": {},
     "output_type": "execute_result"
    }
   ],
   "source": [
    "Fq=pd.crosstab(index=dataset[\"SuppplyConstraint\"], columns =\"count\")\n",
    "Fq"
   ]
  },
  {
   "cell_type": "code",
   "execution_count": 19,
   "id": "9f5bd91c",
   "metadata": {},
   "outputs": [
    {
     "data": {
      "text/html": [
       "<div>\n",
       "<style scoped>\n",
       "    .dataframe tbody tr th:only-of-type {\n",
       "        vertical-align: middle;\n",
       "    }\n",
       "\n",
       "    .dataframe tbody tr th {\n",
       "        vertical-align: top;\n",
       "    }\n",
       "\n",
       "    .dataframe thead th {\n",
       "        text-align: right;\n",
       "    }\n",
       "</style>\n",
       "<table border=\"1\" class=\"dataframe\">\n",
       "  <thead>\n",
       "    <tr style=\"text-align: right;\">\n",
       "      <th>col_0</th>\n",
       "      <th>count</th>\n",
       "    </tr>\n",
       "    <tr>\n",
       "      <th>Warehouse</th>\n",
       "      <th></th>\n",
       "    </tr>\n",
       "  </thead>\n",
       "  <tbody>\n",
       "    <tr>\n",
       "      <th>999</th>\n",
       "      <td>8</td>\n",
       "    </tr>\n",
       "    <tr>\n",
       "      <th>BRT</th>\n",
       "      <td>216</td>\n",
       "    </tr>\n",
       "    <tr>\n",
       "      <th>BSN</th>\n",
       "      <td>1256</td>\n",
       "    </tr>\n",
       "    <tr>\n",
       "      <th>CBlock</th>\n",
       "      <td>4</td>\n",
       "    </tr>\n",
       "    <tr>\n",
       "      <th>ENT</th>\n",
       "      <td>88</td>\n",
       "    </tr>\n",
       "    <tr>\n",
       "      <th>GLU</th>\n",
       "      <td>24</td>\n",
       "    </tr>\n",
       "    <tr>\n",
       "      <th>IA</th>\n",
       "      <td>1280</td>\n",
       "    </tr>\n",
       "    <tr>\n",
       "      <th>JNJ</th>\n",
       "      <td>384</td>\n",
       "    </tr>\n",
       "    <tr>\n",
       "      <th>KPL</th>\n",
       "      <td>696</td>\n",
       "    </tr>\n",
       "    <tr>\n",
       "      <th>LRA</th>\n",
       "      <td>8</td>\n",
       "    </tr>\n",
       "    <tr>\n",
       "      <th>MBL</th>\n",
       "      <td>1396</td>\n",
       "    </tr>\n",
       "    <tr>\n",
       "      <th>MRG</th>\n",
       "      <td>132</td>\n",
       "    </tr>\n",
       "    <tr>\n",
       "      <th>MRT</th>\n",
       "      <td>200</td>\n",
       "    </tr>\n",
       "    <tr>\n",
       "      <th>MSN</th>\n",
       "      <td>3100</td>\n",
       "    </tr>\n",
       "  </tbody>\n",
       "</table>\n",
       "</div>"
      ],
      "text/plain": [
       "col_0      count\n",
       "Warehouse       \n",
       "999            8\n",
       "BRT          216\n",
       "BSN         1256\n",
       "CBlock         4\n",
       "ENT           88\n",
       "GLU           24\n",
       "IA          1280\n",
       "JNJ          384\n",
       "KPL          696\n",
       "LRA            8\n",
       "MBL         1396\n",
       "MRG          132\n",
       "MRT          200\n",
       "MSN         3100"
      ]
     },
     "execution_count": 19,
     "metadata": {},
     "output_type": "execute_result"
    }
   ],
   "source": [
    "Fq=pd.crosstab(index=dataset[\"Warehouse\"], columns =\"count\")\n",
    "Fq"
   ]
  },
  {
   "cell_type": "code",
   "execution_count": 20,
   "id": "6c91073a",
   "metadata": {},
   "outputs": [
    {
     "data": {
      "text/html": [
       "<div>\n",
       "<style scoped>\n",
       "    .dataframe tbody tr th:only-of-type {\n",
       "        vertical-align: middle;\n",
       "    }\n",
       "\n",
       "    .dataframe tbody tr th {\n",
       "        vertical-align: top;\n",
       "    }\n",
       "\n",
       "    .dataframe thead th {\n",
       "        text-align: right;\n",
       "    }\n",
       "</style>\n",
       "<table border=\"1\" class=\"dataframe\">\n",
       "  <thead>\n",
       "    <tr style=\"text-align: right;\">\n",
       "      <th>col_0</th>\n",
       "      <th>count</th>\n",
       "    </tr>\n",
       "    <tr>\n",
       "      <th>Product</th>\n",
       "      <th></th>\n",
       "    </tr>\n",
       "  </thead>\n",
       "  <tbody>\n",
       "    <tr>\n",
       "      <th>Fa</th>\n",
       "      <td>24</td>\n",
       "    </tr>\n",
       "    <tr>\n",
       "      <th>No</th>\n",
       "      <td>3630</td>\n",
       "    </tr>\n",
       "    <tr>\n",
       "      <th>Po</th>\n",
       "      <td>1</td>\n",
       "    </tr>\n",
       "    <tr>\n",
       "      <th>RH</th>\n",
       "      <td>5</td>\n",
       "    </tr>\n",
       "    <tr>\n",
       "      <th>RH&amp;RHL</th>\n",
       "      <td>190</td>\n",
       "    </tr>\n",
       "    <tr>\n",
       "      <th>RHL</th>\n",
       "      <td>661</td>\n",
       "    </tr>\n",
       "    <tr>\n",
       "      <th>RL</th>\n",
       "      <td>602</td>\n",
       "    </tr>\n",
       "    <tr>\n",
       "      <th>Wood</th>\n",
       "      <td>1</td>\n",
       "    </tr>\n",
       "    <tr>\n",
       "      <th>Yes</th>\n",
       "      <td>3678</td>\n",
       "    </tr>\n",
       "  </tbody>\n",
       "</table>\n",
       "</div>"
      ],
      "text/plain": [
       "col_0    count\n",
       "Product       \n",
       "Fa          24\n",
       "No        3630\n",
       "Po           1\n",
       "RH           5\n",
       "RH&RHL     190\n",
       "RHL        661\n",
       "RL         602\n",
       "Wood         1\n",
       "Yes       3678"
      ]
     },
     "execution_count": 20,
     "metadata": {},
     "output_type": "execute_result"
    }
   ],
   "source": [
    "Fq=pd.crosstab(index=dataset[\"Product\"], columns =\"count\")\n",
    "Fq"
   ]
  },
  {
   "cell_type": "code",
   "execution_count": 21,
   "id": "58dbb3cb",
   "metadata": {},
   "outputs": [
    {
     "data": {
      "text/html": [
       "<div>\n",
       "<style scoped>\n",
       "    .dataframe tbody tr th:only-of-type {\n",
       "        vertical-align: middle;\n",
       "    }\n",
       "\n",
       "    .dataframe tbody tr th {\n",
       "        vertical-align: top;\n",
       "    }\n",
       "\n",
       "    .dataframe thead th {\n",
       "        text-align: right;\n",
       "    }\n",
       "</style>\n",
       "<table border=\"1\" class=\"dataframe\">\n",
       "  <thead>\n",
       "    <tr style=\"text-align: right;\">\n",
       "      <th>col_0</th>\n",
       "      <th>count</th>\n",
       "    </tr>\n",
       "    <tr>\n",
       "      <th>MOQ</th>\n",
       "      <th></th>\n",
       "    </tr>\n",
       "  </thead>\n",
       "  <tbody>\n",
       "    <tr>\n",
       "      <th>No</th>\n",
       "      <td>4338</td>\n",
       "    </tr>\n",
       "    <tr>\n",
       "      <th>Yes</th>\n",
       "      <td>4454</td>\n",
       "    </tr>\n",
       "  </tbody>\n",
       "</table>\n",
       "</div>"
      ],
      "text/plain": [
       "col_0  count\n",
       "MOQ         \n",
       "No      4338\n",
       "Yes     4454"
      ]
     },
     "execution_count": 21,
     "metadata": {},
     "output_type": "execute_result"
    }
   ],
   "source": [
    "Fq=pd.crosstab(index=dataset[\"MOQ\"], columns =\"count\")\n",
    "Fq"
   ]
  },
  {
   "cell_type": "code",
   "execution_count": 22,
   "id": "f350cbcc",
   "metadata": {},
   "outputs": [
    {
     "data": {
      "text/html": [
       "<div>\n",
       "<style scoped>\n",
       "    .dataframe tbody tr th:only-of-type {\n",
       "        vertical-align: middle;\n",
       "    }\n",
       "\n",
       "    .dataframe tbody tr th {\n",
       "        vertical-align: top;\n",
       "    }\n",
       "\n",
       "    .dataframe thead th {\n",
       "        text-align: right;\n",
       "    }\n",
       "</style>\n",
       "<table border=\"1\" class=\"dataframe\">\n",
       "  <thead>\n",
       "    <tr style=\"text-align: right;\">\n",
       "      <th>col_0</th>\n",
       "      <th>count</th>\n",
       "    </tr>\n",
       "    <tr>\n",
       "      <th>SaleType</th>\n",
       "      <th></th>\n",
       "    </tr>\n",
       "  </thead>\n",
       "  <tbody>\n",
       "    <tr>\n",
       "      <th>999</th>\n",
       "      <td>4</td>\n",
       "    </tr>\n",
       "    <tr>\n",
       "      <th>Advance</th>\n",
       "      <td>359</td>\n",
       "    </tr>\n",
       "    <tr>\n",
       "      <th>CCredit</th>\n",
       "      <td>24</td>\n",
       "    </tr>\n",
       "    <tr>\n",
       "      <th>COD</th>\n",
       "      <td>142</td>\n",
       "    </tr>\n",
       "    <tr>\n",
       "      <th>Cash</th>\n",
       "      <td>385</td>\n",
       "    </tr>\n",
       "    <tr>\n",
       "      <th>Con</th>\n",
       "      <td>6</td>\n",
       "    </tr>\n",
       "    <tr>\n",
       "      <th>ConLI</th>\n",
       "      <td>14</td>\n",
       "    </tr>\n",
       "    <tr>\n",
       "      <th>ConLw</th>\n",
       "      <td>6</td>\n",
       "    </tr>\n",
       "    <tr>\n",
       "      <th>Credit</th>\n",
       "      <td>7790</td>\n",
       "    </tr>\n",
       "    <tr>\n",
       "      <th>DownPayment</th>\n",
       "      <td>52</td>\n",
       "    </tr>\n",
       "    <tr>\n",
       "      <th>Other</th>\n",
       "      <td>10</td>\n",
       "    </tr>\n",
       "  </tbody>\n",
       "</table>\n",
       "</div>"
      ],
      "text/plain": [
       "col_0        count\n",
       "SaleType          \n",
       "999              4\n",
       "Advance        359\n",
       "CCredit         24\n",
       "COD            142\n",
       "Cash           385\n",
       "Con              6\n",
       "ConLI           14\n",
       "ConLw            6\n",
       "Credit        7790\n",
       "DownPayment     52\n",
       "Other           10"
      ]
     },
     "execution_count": 22,
     "metadata": {},
     "output_type": "execute_result"
    }
   ],
   "source": [
    "Fq=pd.crosstab(index=dataset[\"SaleType\"], columns =\"count\")\n",
    "Fq"
   ]
  },
  {
   "cell_type": "code",
   "execution_count": 23,
   "id": "1cc568cd-42ca-4932-8c01-a7db63e7dc42",
   "metadata": {},
   "outputs": [],
   "source": [
    "#declaring x and y variables\n",
    "\n",
    "X = dataset.drop(['StockOut'], axis=1)\n",
    "y = dataset['StockOut']"
   ]
  },
  {
   "cell_type": "code",
   "execution_count": 24,
   "id": "5daa2c4e-4f73-4b3a-a868-f7d42e8e4cd3",
   "metadata": {},
   "outputs": [],
   "source": [
    "# split X and y into training and testing sets\n",
    "\n",
    "from sklearn.model_selection import train_test_split\n",
    "X_train, X_test, y_train, y_test = train_test_split(X, y, test_size = 0.3, random_state = 88)"
   ]
  },
  {
   "cell_type": "code",
   "execution_count": 25,
   "id": "cfffbc11-73e5-43a7-87ba-2f08a251170e",
   "metadata": {},
   "outputs": [
    {
     "data": {
      "text/plain": [
       "((6154, 13), (2638, 13))"
      ]
     },
     "execution_count": 25,
     "metadata": {},
     "output_type": "execute_result"
    }
   ],
   "source": [
    "# check the shape of X_train and X_test\n",
    "\n",
    "X_train.shape, X_test.shape"
   ]
  },
  {
   "cell_type": "code",
   "execution_count": 26,
   "id": "6eeef883-927a-444e-bc0f-b68b755fe994",
   "metadata": {},
   "outputs": [],
   "source": [
    "# import category encoders\n",
    "\n",
    "import category_encoders as ce\n",
    "# encode remaining variables with one-hot encoding\n",
    "from sklearn.model_selection import train_test_split\n",
    "encoder = ce.OneHotEncoder(cols=[ 'MSSubClass','Local', 'TechSavvy', 'EquipBreak', 'Week', 'SuppplyConstraint', 'Warehouse', 'Product', 'MOQ', 'SaleType'])\n",
    "\n",
    "X_train = encoder.fit_transform(X_train)\n",
    "\n",
    "X_test = encoder.transform(X_test)"
   ]
  },
  {
   "cell_type": "code",
   "execution_count": 27,
   "id": "a427d612-3d57-4485-8cf8-b7a8aaaf0af9",
   "metadata": {},
   "outputs": [],
   "source": [
    "cols = X_train.columns"
   ]
  },
  {
   "cell_type": "code",
   "execution_count": 28,
   "id": "8322de7b-61d8-45fe-935e-a3cf654509a9",
   "metadata": {},
   "outputs": [
    {
     "data": {
      "text/html": [
       "<div>\n",
       "<style scoped>\n",
       "    .dataframe tbody tr th:only-of-type {\n",
       "        vertical-align: middle;\n",
       "    }\n",
       "\n",
       "    .dataframe tbody tr th {\n",
       "        vertical-align: top;\n",
       "    }\n",
       "\n",
       "    .dataframe thead th {\n",
       "        text-align: right;\n",
       "    }\n",
       "</style>\n",
       "<table border=\"1\" class=\"dataframe\">\n",
       "  <thead>\n",
       "    <tr style=\"text-align: right;\">\n",
       "      <th></th>\n",
       "      <th>MSSubClass_1</th>\n",
       "      <th>MSSubClass_2</th>\n",
       "      <th>MSSubClass_3</th>\n",
       "      <th>MSSubClass_4</th>\n",
       "      <th>MSSubClass_5</th>\n",
       "      <th>MSSubClass_6</th>\n",
       "      <th>MSSubClass_7</th>\n",
       "      <th>MSSubClass_8</th>\n",
       "      <th>MSSubClass_9</th>\n",
       "      <th>MSSubClass_10</th>\n",
       "      <th>...</th>\n",
       "      <th>SaleType_2</th>\n",
       "      <th>SaleType_3</th>\n",
       "      <th>SaleType_4</th>\n",
       "      <th>SaleType_5</th>\n",
       "      <th>SaleType_6</th>\n",
       "      <th>SaleType_7</th>\n",
       "      <th>SaleType_8</th>\n",
       "      <th>SaleType_9</th>\n",
       "      <th>SaleType_10</th>\n",
       "      <th>SaleType_11</th>\n",
       "    </tr>\n",
       "  </thead>\n",
       "  <tbody>\n",
       "    <tr>\n",
       "      <th>3883</th>\n",
       "      <td>1</td>\n",
       "      <td>0</td>\n",
       "      <td>0</td>\n",
       "      <td>0</td>\n",
       "      <td>0</td>\n",
       "      <td>0</td>\n",
       "      <td>0</td>\n",
       "      <td>0</td>\n",
       "      <td>0</td>\n",
       "      <td>0</td>\n",
       "      <td>...</td>\n",
       "      <td>0</td>\n",
       "      <td>0</td>\n",
       "      <td>0</td>\n",
       "      <td>0</td>\n",
       "      <td>0</td>\n",
       "      <td>0</td>\n",
       "      <td>0</td>\n",
       "      <td>0</td>\n",
       "      <td>0</td>\n",
       "      <td>0</td>\n",
       "    </tr>\n",
       "    <tr>\n",
       "      <th>4029</th>\n",
       "      <td>0</td>\n",
       "      <td>1</td>\n",
       "      <td>0</td>\n",
       "      <td>0</td>\n",
       "      <td>0</td>\n",
       "      <td>0</td>\n",
       "      <td>0</td>\n",
       "      <td>0</td>\n",
       "      <td>0</td>\n",
       "      <td>0</td>\n",
       "      <td>...</td>\n",
       "      <td>1</td>\n",
       "      <td>0</td>\n",
       "      <td>0</td>\n",
       "      <td>0</td>\n",
       "      <td>0</td>\n",
       "      <td>0</td>\n",
       "      <td>0</td>\n",
       "      <td>0</td>\n",
       "      <td>0</td>\n",
       "      <td>0</td>\n",
       "    </tr>\n",
       "    <tr>\n",
       "      <th>8546</th>\n",
       "      <td>0</td>\n",
       "      <td>1</td>\n",
       "      <td>0</td>\n",
       "      <td>0</td>\n",
       "      <td>0</td>\n",
       "      <td>0</td>\n",
       "      <td>0</td>\n",
       "      <td>0</td>\n",
       "      <td>0</td>\n",
       "      <td>0</td>\n",
       "      <td>...</td>\n",
       "      <td>0</td>\n",
       "      <td>1</td>\n",
       "      <td>0</td>\n",
       "      <td>0</td>\n",
       "      <td>0</td>\n",
       "      <td>0</td>\n",
       "      <td>0</td>\n",
       "      <td>0</td>\n",
       "      <td>0</td>\n",
       "      <td>0</td>\n",
       "    </tr>\n",
       "    <tr>\n",
       "      <th>5420</th>\n",
       "      <td>0</td>\n",
       "      <td>1</td>\n",
       "      <td>0</td>\n",
       "      <td>0</td>\n",
       "      <td>0</td>\n",
       "      <td>0</td>\n",
       "      <td>0</td>\n",
       "      <td>0</td>\n",
       "      <td>0</td>\n",
       "      <td>0</td>\n",
       "      <td>...</td>\n",
       "      <td>1</td>\n",
       "      <td>0</td>\n",
       "      <td>0</td>\n",
       "      <td>0</td>\n",
       "      <td>0</td>\n",
       "      <td>0</td>\n",
       "      <td>0</td>\n",
       "      <td>0</td>\n",
       "      <td>0</td>\n",
       "      <td>0</td>\n",
       "    </tr>\n",
       "    <tr>\n",
       "      <th>7675</th>\n",
       "      <td>0</td>\n",
       "      <td>0</td>\n",
       "      <td>1</td>\n",
       "      <td>0</td>\n",
       "      <td>0</td>\n",
       "      <td>0</td>\n",
       "      <td>0</td>\n",
       "      <td>0</td>\n",
       "      <td>0</td>\n",
       "      <td>0</td>\n",
       "      <td>...</td>\n",
       "      <td>1</td>\n",
       "      <td>0</td>\n",
       "      <td>0</td>\n",
       "      <td>0</td>\n",
       "      <td>0</td>\n",
       "      <td>0</td>\n",
       "      <td>0</td>\n",
       "      <td>0</td>\n",
       "      <td>0</td>\n",
       "      <td>0</td>\n",
       "    </tr>\n",
       "  </tbody>\n",
       "</table>\n",
       "<p>5 rows × 67 columns</p>\n",
       "</div>"
      ],
      "text/plain": [
       "      MSSubClass_1  MSSubClass_2  MSSubClass_3  MSSubClass_4  MSSubClass_5  \\\n",
       "3883             1             0             0             0             0   \n",
       "4029             0             1             0             0             0   \n",
       "8546             0             1             0             0             0   \n",
       "5420             0             1             0             0             0   \n",
       "7675             0             0             1             0             0   \n",
       "\n",
       "      MSSubClass_6  MSSubClass_7  MSSubClass_8  MSSubClass_9  MSSubClass_10  \\\n",
       "3883             0             0             0             0              0   \n",
       "4029             0             0             0             0              0   \n",
       "8546             0             0             0             0              0   \n",
       "5420             0             0             0             0              0   \n",
       "7675             0             0             0             0              0   \n",
       "\n",
       "      ...  SaleType_2  SaleType_3  SaleType_4  SaleType_5  SaleType_6  \\\n",
       "3883  ...           0           0           0           0           0   \n",
       "4029  ...           1           0           0           0           0   \n",
       "8546  ...           0           1           0           0           0   \n",
       "5420  ...           1           0           0           0           0   \n",
       "7675  ...           1           0           0           0           0   \n",
       "\n",
       "      SaleType_7  SaleType_8  SaleType_9  SaleType_10  SaleType_11  \n",
       "3883           0           0           0            0            0  \n",
       "4029           0           0           0            0            0  \n",
       "8546           0           0           0            0            0  \n",
       "5420           0           0           0            0            0  \n",
       "7675           0           0           0            0            0  \n",
       "\n",
       "[5 rows x 67 columns]"
      ]
     },
     "execution_count": 28,
     "metadata": {},
     "output_type": "execute_result"
    }
   ],
   "source": [
    "X_train.head()"
   ]
  },
  {
   "cell_type": "code",
   "execution_count": 29,
   "id": "730ad6aa-19af-4cfb-b74c-b0fc65c34b87",
   "metadata": {},
   "outputs": [
    {
     "data": {
      "text/plain": [
       "(6154, 67)"
      ]
     },
     "execution_count": 29,
     "metadata": {},
     "output_type": "execute_result"
    }
   ],
   "source": [
    "X_train.shape"
   ]
  },
  {
   "cell_type": "code",
   "execution_count": 30,
   "id": "59d84e0b-5f70-48f7-abdf-bae4a636e196",
   "metadata": {},
   "outputs": [
    {
     "data": {
      "text/plain": [
       "(6154, 67)"
      ]
     },
     "execution_count": 30,
     "metadata": {},
     "output_type": "execute_result"
    }
   ],
   "source": [
    "X_train.shape"
   ]
  },
  {
   "cell_type": "code",
   "execution_count": 31,
   "id": "bfe400f6-7e80-45c3-b35d-0afcd8bfa315",
   "metadata": {},
   "outputs": [
    {
     "data": {
      "text/html": [
       "<div>\n",
       "<style scoped>\n",
       "    .dataframe tbody tr th:only-of-type {\n",
       "        vertical-align: middle;\n",
       "    }\n",
       "\n",
       "    .dataframe tbody tr th {\n",
       "        vertical-align: top;\n",
       "    }\n",
       "\n",
       "    .dataframe thead th {\n",
       "        text-align: right;\n",
       "    }\n",
       "</style>\n",
       "<table border=\"1\" class=\"dataframe\">\n",
       "  <thead>\n",
       "    <tr style=\"text-align: right;\">\n",
       "      <th></th>\n",
       "      <th>MSSubClass_1</th>\n",
       "      <th>MSSubClass_2</th>\n",
       "      <th>MSSubClass_3</th>\n",
       "      <th>MSSubClass_4</th>\n",
       "      <th>MSSubClass_5</th>\n",
       "      <th>MSSubClass_6</th>\n",
       "      <th>MSSubClass_7</th>\n",
       "      <th>MSSubClass_8</th>\n",
       "      <th>MSSubClass_9</th>\n",
       "      <th>MSSubClass_10</th>\n",
       "      <th>...</th>\n",
       "      <th>SaleType_2</th>\n",
       "      <th>SaleType_3</th>\n",
       "      <th>SaleType_4</th>\n",
       "      <th>SaleType_5</th>\n",
       "      <th>SaleType_6</th>\n",
       "      <th>SaleType_7</th>\n",
       "      <th>SaleType_8</th>\n",
       "      <th>SaleType_9</th>\n",
       "      <th>SaleType_10</th>\n",
       "      <th>SaleType_11</th>\n",
       "    </tr>\n",
       "  </thead>\n",
       "  <tbody>\n",
       "    <tr>\n",
       "      <th>5984</th>\n",
       "      <td>0</td>\n",
       "      <td>1</td>\n",
       "      <td>0</td>\n",
       "      <td>0</td>\n",
       "      <td>0</td>\n",
       "      <td>0</td>\n",
       "      <td>0</td>\n",
       "      <td>0</td>\n",
       "      <td>0</td>\n",
       "      <td>0</td>\n",
       "      <td>...</td>\n",
       "      <td>1</td>\n",
       "      <td>0</td>\n",
       "      <td>0</td>\n",
       "      <td>0</td>\n",
       "      <td>0</td>\n",
       "      <td>0</td>\n",
       "      <td>0</td>\n",
       "      <td>0</td>\n",
       "      <td>0</td>\n",
       "      <td>0</td>\n",
       "    </tr>\n",
       "    <tr>\n",
       "      <th>5674</th>\n",
       "      <td>0</td>\n",
       "      <td>0</td>\n",
       "      <td>0</td>\n",
       "      <td>0</td>\n",
       "      <td>0</td>\n",
       "      <td>1</td>\n",
       "      <td>0</td>\n",
       "      <td>0</td>\n",
       "      <td>0</td>\n",
       "      <td>0</td>\n",
       "      <td>...</td>\n",
       "      <td>1</td>\n",
       "      <td>0</td>\n",
       "      <td>0</td>\n",
       "      <td>0</td>\n",
       "      <td>0</td>\n",
       "      <td>0</td>\n",
       "      <td>0</td>\n",
       "      <td>0</td>\n",
       "      <td>0</td>\n",
       "      <td>0</td>\n",
       "    </tr>\n",
       "    <tr>\n",
       "      <th>3091</th>\n",
       "      <td>0</td>\n",
       "      <td>1</td>\n",
       "      <td>0</td>\n",
       "      <td>0</td>\n",
       "      <td>0</td>\n",
       "      <td>0</td>\n",
       "      <td>0</td>\n",
       "      <td>0</td>\n",
       "      <td>0</td>\n",
       "      <td>0</td>\n",
       "      <td>...</td>\n",
       "      <td>0</td>\n",
       "      <td>0</td>\n",
       "      <td>1</td>\n",
       "      <td>0</td>\n",
       "      <td>0</td>\n",
       "      <td>0</td>\n",
       "      <td>0</td>\n",
       "      <td>0</td>\n",
       "      <td>0</td>\n",
       "      <td>0</td>\n",
       "    </tr>\n",
       "    <tr>\n",
       "      <th>5640</th>\n",
       "      <td>0</td>\n",
       "      <td>1</td>\n",
       "      <td>0</td>\n",
       "      <td>0</td>\n",
       "      <td>0</td>\n",
       "      <td>0</td>\n",
       "      <td>0</td>\n",
       "      <td>0</td>\n",
       "      <td>0</td>\n",
       "      <td>0</td>\n",
       "      <td>...</td>\n",
       "      <td>1</td>\n",
       "      <td>0</td>\n",
       "      <td>0</td>\n",
       "      <td>0</td>\n",
       "      <td>0</td>\n",
       "      <td>0</td>\n",
       "      <td>0</td>\n",
       "      <td>0</td>\n",
       "      <td>0</td>\n",
       "      <td>0</td>\n",
       "    </tr>\n",
       "    <tr>\n",
       "      <th>617</th>\n",
       "      <td>0</td>\n",
       "      <td>1</td>\n",
       "      <td>0</td>\n",
       "      <td>0</td>\n",
       "      <td>0</td>\n",
       "      <td>0</td>\n",
       "      <td>0</td>\n",
       "      <td>0</td>\n",
       "      <td>0</td>\n",
       "      <td>0</td>\n",
       "      <td>...</td>\n",
       "      <td>1</td>\n",
       "      <td>0</td>\n",
       "      <td>0</td>\n",
       "      <td>0</td>\n",
       "      <td>0</td>\n",
       "      <td>0</td>\n",
       "      <td>0</td>\n",
       "      <td>0</td>\n",
       "      <td>0</td>\n",
       "      <td>0</td>\n",
       "    </tr>\n",
       "  </tbody>\n",
       "</table>\n",
       "<p>5 rows × 67 columns</p>\n",
       "</div>"
      ],
      "text/plain": [
       "      MSSubClass_1  MSSubClass_2  MSSubClass_3  MSSubClass_4  MSSubClass_5  \\\n",
       "5984             0             1             0             0             0   \n",
       "5674             0             0             0             0             0   \n",
       "3091             0             1             0             0             0   \n",
       "5640             0             1             0             0             0   \n",
       "617              0             1             0             0             0   \n",
       "\n",
       "      MSSubClass_6  MSSubClass_7  MSSubClass_8  MSSubClass_9  MSSubClass_10  \\\n",
       "5984             0             0             0             0              0   \n",
       "5674             1             0             0             0              0   \n",
       "3091             0             0             0             0              0   \n",
       "5640             0             0             0             0              0   \n",
       "617              0             0             0             0              0   \n",
       "\n",
       "      ...  SaleType_2  SaleType_3  SaleType_4  SaleType_5  SaleType_6  \\\n",
       "5984  ...           1           0           0           0           0   \n",
       "5674  ...           1           0           0           0           0   \n",
       "3091  ...           0           0           1           0           0   \n",
       "5640  ...           1           0           0           0           0   \n",
       "617   ...           1           0           0           0           0   \n",
       "\n",
       "      SaleType_7  SaleType_8  SaleType_9  SaleType_10  SaleType_11  \n",
       "5984           0           0           0            0            0  \n",
       "5674           0           0           0            0            0  \n",
       "3091           0           0           0            0            0  \n",
       "5640           0           0           0            0            0  \n",
       "617            0           0           0            0            0  \n",
       "\n",
       "[5 rows x 67 columns]"
      ]
     },
     "execution_count": 31,
     "metadata": {},
     "output_type": "execute_result"
    }
   ],
   "source": [
    "X_test.head()"
   ]
  },
  {
   "cell_type": "code",
   "execution_count": 32,
   "id": "f4f7f26f-63dc-4c95-9e8d-57053a043c7a",
   "metadata": {},
   "outputs": [
    {
     "data": {
      "text/plain": [
       "(2638, 67)"
      ]
     },
     "execution_count": 32,
     "metadata": {},
     "output_type": "execute_result"
    }
   ],
   "source": [
    "X_test.shape"
   ]
  },
  {
   "cell_type": "code",
   "execution_count": 33,
   "id": "8bdfd4a6-19f3-4f10-92da-565fcac291ab",
   "metadata": {},
   "outputs": [
    {
     "data": {
      "text/plain": [
       "(2638, 67)"
      ]
     },
     "execution_count": 33,
     "metadata": {},
     "output_type": "execute_result"
    }
   ],
   "source": [
    "X_test.shape"
   ]
  },
  {
   "cell_type": "code",
   "execution_count": 34,
   "id": "4818dd7e-7ca7-4194-b676-ed4915cfd56c",
   "metadata": {},
   "outputs": [],
   "source": [
    "scaler = RobustScaler()\n",
    "\n",
    "X_train = scaler.fit_transform(X_train)\n",
    "\n",
    "X_test = scaler.transform(X_test)"
   ]
  },
  {
   "cell_type": "code",
   "execution_count": 35,
   "id": "003d87d9-c779-49a1-bf00-ed4702d6ce83",
   "metadata": {},
   "outputs": [
    {
     "data": {
      "text/plain": [
       "(6154, 67)"
      ]
     },
     "execution_count": 35,
     "metadata": {},
     "output_type": "execute_result"
    }
   ],
   "source": [
    "X_train.shape"
   ]
  },
  {
   "cell_type": "code",
   "execution_count": 36,
   "id": "3d380ff0-7372-4762-8d87-a58f25afcdf4",
   "metadata": {},
   "outputs": [
    {
     "data": {
      "text/plain": [
       "['MSSubClass',\n",
       " 'StockOut',\n",
       " 'Local',\n",
       " 'TechSavvy',\n",
       " 'EquipBreak',\n",
       " 'Week',\n",
       " 'SuppplyConstraint',\n",
       " 'Warehouse',\n",
       " 'Product',\n",
       " 'MOQ',\n",
       " 'SaleType']"
      ]
     },
     "execution_count": 36,
     "metadata": {},
     "output_type": "execute_result"
    }
   ],
   "source": [
    "# print categorical variables\n",
    "\n",
    "categorical"
   ]
  },
  {
   "cell_type": "code",
   "execution_count": 37,
   "id": "79d4d0fc-5e2e-4b51-9ed3-36d9a58822f2",
   "metadata": {},
   "outputs": [
    {
     "data": {
      "text/html": [
       "<div>\n",
       "<style scoped>\n",
       "    .dataframe tbody tr th:only-of-type {\n",
       "        vertical-align: middle;\n",
       "    }\n",
       "\n",
       "    .dataframe tbody tr th {\n",
       "        vertical-align: top;\n",
       "    }\n",
       "\n",
       "    .dataframe thead tr th {\n",
       "        text-align: left;\n",
       "    }\n",
       "</style>\n",
       "<table border=\"1\" class=\"dataframe\">\n",
       "  <thead>\n",
       "    <tr>\n",
       "      <th></th>\n",
       "      <th>MSSubClass_1</th>\n",
       "      <th>MSSubClass_2</th>\n",
       "      <th>MSSubClass_3</th>\n",
       "      <th>MSSubClass_4</th>\n",
       "      <th>MSSubClass_5</th>\n",
       "      <th>MSSubClass_6</th>\n",
       "      <th>MSSubClass_7</th>\n",
       "      <th>MSSubClass_8</th>\n",
       "      <th>MSSubClass_9</th>\n",
       "      <th>MSSubClass_10</th>\n",
       "      <th>...</th>\n",
       "      <th>SaleType_2</th>\n",
       "      <th>SaleType_3</th>\n",
       "      <th>SaleType_4</th>\n",
       "      <th>SaleType_5</th>\n",
       "      <th>SaleType_6</th>\n",
       "      <th>SaleType_7</th>\n",
       "      <th>SaleType_8</th>\n",
       "      <th>SaleType_9</th>\n",
       "      <th>SaleType_10</th>\n",
       "      <th>SaleType_11</th>\n",
       "    </tr>\n",
       "  </thead>\n",
       "  <tbody>\n",
       "    <tr>\n",
       "      <th>0</th>\n",
       "      <td>1.0</td>\n",
       "      <td>0.0</td>\n",
       "      <td>0.0</td>\n",
       "      <td>0.0</td>\n",
       "      <td>0.0</td>\n",
       "      <td>0.0</td>\n",
       "      <td>0.0</td>\n",
       "      <td>0.0</td>\n",
       "      <td>0.0</td>\n",
       "      <td>0.0</td>\n",
       "      <td>...</td>\n",
       "      <td>-1.0</td>\n",
       "      <td>0.0</td>\n",
       "      <td>0.0</td>\n",
       "      <td>0.0</td>\n",
       "      <td>0.0</td>\n",
       "      <td>0.0</td>\n",
       "      <td>0.0</td>\n",
       "      <td>0.0</td>\n",
       "      <td>0.0</td>\n",
       "      <td>0.0</td>\n",
       "    </tr>\n",
       "    <tr>\n",
       "      <th>1</th>\n",
       "      <td>0.0</td>\n",
       "      <td>1.0</td>\n",
       "      <td>0.0</td>\n",
       "      <td>0.0</td>\n",
       "      <td>0.0</td>\n",
       "      <td>0.0</td>\n",
       "      <td>0.0</td>\n",
       "      <td>0.0</td>\n",
       "      <td>0.0</td>\n",
       "      <td>0.0</td>\n",
       "      <td>...</td>\n",
       "      <td>0.0</td>\n",
       "      <td>0.0</td>\n",
       "      <td>0.0</td>\n",
       "      <td>0.0</td>\n",
       "      <td>0.0</td>\n",
       "      <td>0.0</td>\n",
       "      <td>0.0</td>\n",
       "      <td>0.0</td>\n",
       "      <td>0.0</td>\n",
       "      <td>0.0</td>\n",
       "    </tr>\n",
       "    <tr>\n",
       "      <th>2</th>\n",
       "      <td>0.0</td>\n",
       "      <td>1.0</td>\n",
       "      <td>0.0</td>\n",
       "      <td>0.0</td>\n",
       "      <td>0.0</td>\n",
       "      <td>0.0</td>\n",
       "      <td>0.0</td>\n",
       "      <td>0.0</td>\n",
       "      <td>0.0</td>\n",
       "      <td>0.0</td>\n",
       "      <td>...</td>\n",
       "      <td>-1.0</td>\n",
       "      <td>1.0</td>\n",
       "      <td>0.0</td>\n",
       "      <td>0.0</td>\n",
       "      <td>0.0</td>\n",
       "      <td>0.0</td>\n",
       "      <td>0.0</td>\n",
       "      <td>0.0</td>\n",
       "      <td>0.0</td>\n",
       "      <td>0.0</td>\n",
       "    </tr>\n",
       "    <tr>\n",
       "      <th>3</th>\n",
       "      <td>0.0</td>\n",
       "      <td>1.0</td>\n",
       "      <td>0.0</td>\n",
       "      <td>0.0</td>\n",
       "      <td>0.0</td>\n",
       "      <td>0.0</td>\n",
       "      <td>0.0</td>\n",
       "      <td>0.0</td>\n",
       "      <td>0.0</td>\n",
       "      <td>0.0</td>\n",
       "      <td>...</td>\n",
       "      <td>0.0</td>\n",
       "      <td>0.0</td>\n",
       "      <td>0.0</td>\n",
       "      <td>0.0</td>\n",
       "      <td>0.0</td>\n",
       "      <td>0.0</td>\n",
       "      <td>0.0</td>\n",
       "      <td>0.0</td>\n",
       "      <td>0.0</td>\n",
       "      <td>0.0</td>\n",
       "    </tr>\n",
       "    <tr>\n",
       "      <th>4</th>\n",
       "      <td>0.0</td>\n",
       "      <td>0.0</td>\n",
       "      <td>1.0</td>\n",
       "      <td>0.0</td>\n",
       "      <td>0.0</td>\n",
       "      <td>0.0</td>\n",
       "      <td>0.0</td>\n",
       "      <td>0.0</td>\n",
       "      <td>0.0</td>\n",
       "      <td>0.0</td>\n",
       "      <td>...</td>\n",
       "      <td>0.0</td>\n",
       "      <td>0.0</td>\n",
       "      <td>0.0</td>\n",
       "      <td>0.0</td>\n",
       "      <td>0.0</td>\n",
       "      <td>0.0</td>\n",
       "      <td>0.0</td>\n",
       "      <td>0.0</td>\n",
       "      <td>0.0</td>\n",
       "      <td>0.0</td>\n",
       "    </tr>\n",
       "  </tbody>\n",
       "</table>\n",
       "<p>5 rows × 67 columns</p>\n",
       "</div>"
      ],
      "text/plain": [
       "  MSSubClass_1 MSSubClass_2 MSSubClass_3 MSSubClass_4 MSSubClass_5  \\\n",
       "0          1.0          0.0          0.0          0.0          0.0   \n",
       "1          0.0          1.0          0.0          0.0          0.0   \n",
       "2          0.0          1.0          0.0          0.0          0.0   \n",
       "3          0.0          1.0          0.0          0.0          0.0   \n",
       "4          0.0          0.0          1.0          0.0          0.0   \n",
       "\n",
       "  MSSubClass_6 MSSubClass_7 MSSubClass_8 MSSubClass_9 MSSubClass_10  ...  \\\n",
       "0          0.0          0.0          0.0          0.0           0.0  ...   \n",
       "1          0.0          0.0          0.0          0.0           0.0  ...   \n",
       "2          0.0          0.0          0.0          0.0           0.0  ...   \n",
       "3          0.0          0.0          0.0          0.0           0.0  ...   \n",
       "4          0.0          0.0          0.0          0.0           0.0  ...   \n",
       "\n",
       "  SaleType_2 SaleType_3 SaleType_4 SaleType_5 SaleType_6 SaleType_7  \\\n",
       "0       -1.0        0.0        0.0        0.0        0.0        0.0   \n",
       "1        0.0        0.0        0.0        0.0        0.0        0.0   \n",
       "2       -1.0        1.0        0.0        0.0        0.0        0.0   \n",
       "3        0.0        0.0        0.0        0.0        0.0        0.0   \n",
       "4        0.0        0.0        0.0        0.0        0.0        0.0   \n",
       "\n",
       "  SaleType_8 SaleType_9 SaleType_10 SaleType_11  \n",
       "0        0.0        0.0         0.0         0.0  \n",
       "1        0.0        0.0         0.0         0.0  \n",
       "2        0.0        0.0         0.0         0.0  \n",
       "3        0.0        0.0         0.0         0.0  \n",
       "4        0.0        0.0         0.0         0.0  \n",
       "\n",
       "[5 rows x 67 columns]"
      ]
     },
     "execution_count": 37,
     "metadata": {},
     "output_type": "execute_result"
    }
   ],
   "source": [
    "X_train = pd.DataFrame(X_train, columns=[cols])\n",
    "X_test = pd.DataFrame(X_test, columns=[cols])\n",
    "X_train.head()"
   ]
  },
  {
   "cell_type": "code",
   "execution_count": 38,
   "id": "469675b7-7870-41b7-8d27-a56f38cdc240",
   "metadata": {},
   "outputs": [
    {
     "data": {
      "text/plain": [
       "GaussianNB()"
      ]
     },
     "execution_count": 38,
     "metadata": {},
     "output_type": "execute_result"
    }
   ],
   "source": [
    "# train a Gaussian Naive Bayes classifier on the training set\n",
    "from sklearn.naive_bayes import GaussianNB\n",
    "\n",
    "\n",
    "# instantiate the model\n",
    "gnb = GaussianNB()\n",
    "\n",
    "\n",
    "# fit the model\n",
    "gnb.fit(X_train, y_train)"
   ]
  },
  {
   "cell_type": "code",
   "execution_count": 39,
   "id": "8d8326eb-8a06-401e-9609-206281d1afbf",
   "metadata": {},
   "outputs": [
    {
     "data": {
      "text/plain": [
       "array(['Yes', 'Yes', 'Yes', ..., 'Yes', 'Yes', 'Yes'], dtype='<U3')"
      ]
     },
     "execution_count": 39,
     "metadata": {},
     "output_type": "execute_result"
    }
   ],
   "source": [
    "y_pred = gnb.predict(X_test)\n",
    "\n",
    "y_pred"
   ]
  },
  {
   "cell_type": "code",
   "execution_count": 40,
   "id": "0960547b-403c-479c-9ee6-a52c35d0e66c",
   "metadata": {},
   "outputs": [
    {
     "name": "stdout",
     "output_type": "stream",
     "text": [
      "Model accuracy score: 0.5\n"
     ]
    }
   ],
   "source": [
    "from sklearn.metrics import accuracy_score\n",
    "\n",
    "print('Model accuracy score: {0:0.1f}'. format(accuracy_score(y_test, y_pred)))\n"
   ]
  },
  {
   "cell_type": "code",
   "execution_count": 41,
   "id": "b0b50c67-95c2-4a5c-a42f-9a4a75af014a",
   "metadata": {},
   "outputs": [
    {
     "data": {
      "text/plain": [
       "array(['Yes', 'Yes', 'Yes', ..., 'Yes', 'Yes', 'Yes'], dtype='<U3')"
      ]
     },
     "execution_count": 41,
     "metadata": {},
     "output_type": "execute_result"
    }
   ],
   "source": [
    "y_pred_train = gnb.predict(X_train)\n",
    "\n",
    "y_pred_train"
   ]
  },
  {
   "cell_type": "code",
   "execution_count": 42,
   "id": "fc875a8b-ba3b-45ee-9cb2-4efb30a14887",
   "metadata": {},
   "outputs": [
    {
     "name": "stdout",
     "output_type": "stream",
     "text": [
      "Training-set accuracy score: 0.5\n"
     ]
    }
   ],
   "source": [
    "print('Training-set accuracy score: {0:0.1f}'. format(accuracy_score(y_train, y_pred_train)))"
   ]
  },
  {
   "cell_type": "code",
   "execution_count": 43,
   "id": "799a4f28-82cc-4aac-a304-7a9c6ae614eb",
   "metadata": {},
   "outputs": [
    {
     "name": "stdout",
     "output_type": "stream",
     "text": [
      "Training set score: 0.5\n",
      "Test set score: 0.5\n"
     ]
    }
   ],
   "source": [
    "# print the scores on training and test set\n",
    "\n",
    "print('Training set score: {:.1f}'.format(gnb.score(X_train, y_train)))\n",
    "\n",
    "print('Test set score: {:.1f}'.format(gnb.score(X_test, y_test)))"
   ]
  },
  {
   "cell_type": "code",
   "execution_count": 44,
   "id": "60c32b8d",
   "metadata": {},
   "outputs": [
    {
     "name": "stdout",
     "output_type": "stream",
     "text": [
      "Confusion matrix\n",
      "\n",
      " [[  29 1271]\n",
      " [  27 1311]]\n",
      "\n",
      "True Positives(TP) =  29\n",
      "\n",
      "True Negatives(TN) =  1311\n",
      "\n",
      "False Positives(FP) =  1271\n",
      "\n",
      "False Negatives(FN) =  27\n"
     ]
    }
   ],
   "source": [
    "# Print the Confusion Matrix and slice it into four pieces\n",
    "\n",
    "from sklearn.metrics import confusion_matrix\n",
    "\n",
    "cm = confusion_matrix(y_test, y_pred)\n",
    "\n",
    "print('Confusion matrix\\n\\n', cm)\n",
    "\n",
    "print('\\nTrue Positives(TP) = ', cm[0,0])\n",
    "\n",
    "print('\\nTrue Negatives(TN) = ', cm[1,1])\n",
    "\n",
    "print('\\nFalse Positives(FP) = ', cm[0,1])\n",
    "\n",
    "print('\\nFalse Negatives(FN) = ', cm[1,0])"
   ]
  },
  {
   "cell_type": "code",
   "execution_count": 45,
   "id": "c71133b2",
   "metadata": {},
   "outputs": [
    {
     "data": {
      "text/plain": [
       "<AxesSubplot:>"
      ]
     },
     "execution_count": 45,
     "metadata": {},
     "output_type": "execute_result"
    },
    {
     "data": {
      "image/png": "[encoded data removed]",
      "text/plain": [
       "<Figure size 432x288 with 2 Axes>"
      ]
     },
     "metadata": {
      "needs_background": "light"
     },
     "output_type": "display_data"
    }
   ],
   "source": [
    "# visualize confusion matrix with seaborn heatmap\n",
    "\n",
    "cm_matrix = pd.DataFrame(data=cm, columns=['Actual Positive:1', 'Actual Negative:0'], \n",
    "                                 index=['Predict Positive:1', 'Predict Negative:0'])\n",
    "\n",
    "sns.heatmap(cm_matrix, annot=True, fmt='d', cmap='YlGnBu')"
   ]
  },
  {
   "cell_type": "code",
   "execution_count": 46,
   "id": "6da65bb9",
   "metadata": {},
   "outputs": [
    {
     "name": "stdout",
     "output_type": "stream",
     "text": [
      "              precision    recall  f1-score   support\n",
      "\n",
      "          No       0.52      0.02      0.04      1300\n",
      "         Yes       0.51      0.98      0.67      1338\n",
      "\n",
      "    accuracy                           0.51      2638\n",
      "   macro avg       0.51      0.50      0.36      2638\n",
      "weighted avg       0.51      0.51      0.36      2638\n",
      "\n"
     ]
    }
   ],
   "source": [
    "from sklearn.metrics import classification_report\n",
    "\n",
    "print(classification_report(y_test, y_pred))"
   ]
  },
  {
   "cell_type": "code",
   "execution_count": 47,
   "id": "a6cdba52",
   "metadata": {},
   "outputs": [],
   "source": [
    "TP = cm[0,0]\n",
    "TN = cm[1,1]\n",
    "FP = cm[0,1]\n",
    "FN = cm[1,0]"
   ]
  },
  {
   "cell_type": "code",
   "execution_count": 48,
   "id": "423ae1dd",
   "metadata": {},
   "outputs": [
    {
     "name": "stdout",
     "output_type": "stream",
     "text": [
      "Precision : 0.0223\n"
     ]
    }
   ],
   "source": [
    "# print precision score\n",
    "\n",
    "precision = TP / float(TP + FP)\n",
    "\n",
    "\n",
    "print('Precision : {0:0.4f}'.format(precision))"
   ]
  },
  {
   "cell_type": "code",
   "execution_count": 49,
   "id": "f64168c0",
   "metadata": {},
   "outputs": [
    {
     "name": "stdout",
     "output_type": "stream",
     "text": [
      "Recall or Sensitivity : 0.5179\n"
     ]
    }
   ],
   "source": [
    "recall = TP / float(TP + FN)\n",
    "\n",
    "print('Recall or Sensitivity : {0:0.4f}'.format(recall))"
   ]
  },
  {
   "cell_type": "code",
   "execution_count": null,
   "id": "ec4bfcba",
   "metadata": {},
   "outputs": [],
   "source": []
  }
 ],
 "metadata": {
  "kernelspec": {
   "display_name": "Python 3 (ipykernel)",
   "language": "python",
   "name": "python3"
  },
  "language_info": {
   "codemirror_mode": {
    "name": "ipython",
    "version": 3
   },
   "file_extension": ".py",
   "mimetype": "text/x-python",
   "name": "python",
   "nbconvert_exporter": "python",
   "pygments_lexer": "ipython3",
   "version": "3.9.12"
  }
 },
 "nbformat": 4,
 "nbformat_minor": 5
}
